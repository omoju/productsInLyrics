{
 "cells": [
  {
   "cell_type": "markdown",
   "metadata": {},
   "source": [
    "##     Products In Rap Lyrics"
   ]
  },
  {
   "cell_type": "code",
   "execution_count": 29,
   "metadata": {
    "collapsed": false
   },
   "outputs": [
    {
     "name": "stdout",
     "output_type": "stream",
     "text": [
      "Populating the interactive namespace from numpy and matplotlib\n"
     ]
    }
   ],
   "source": [
    "%pylab inline"
   ]
  },
  {
   "cell_type": "code",
   "execution_count": 1,
   "metadata": {
    "collapsed": false
   },
   "outputs": [],
   "source": [
    "import nltk\n",
    "import re\n",
    "from nltk.corpus import PlaintextCorpusReader"
   ]
  },
  {
   "cell_type": "code",
   "execution_count": 12,
   "metadata": {
    "collapsed": false
   },
   "outputs": [],
   "source": [
    "\n",
    "corpus_root = 'JayZ/'\n",
    "wordlist = PlaintextCorpusReader(corpus_root, '.*')"
   ]
  },
  {
   "cell_type": "code",
   "execution_count": 15,
   "metadata": {
    "collapsed": false
   },
   "outputs": [],
   "source": [
    "def create_corpus(wordlist, some_corpus): \n",
    "    \n",
    "    \"\"\"\n",
    "    This function takes in an object of the type PlaintextCorpusReader, and system path.\n",
    "    It returns an nltk corpus\n",
    "\n",
    "    It requires the regular expression package re to work\n",
    "    \"\"\"\n",
    "    #process the files so I know what was read in\n",
    "    \n",
    "    for fileid in wordlist.fileids():\n",
    "        raw = wordlist.raw(fileid)\n",
    "        raw = re.split(r'\\W+', raw) ## split the raw text into appropriate words \n",
    "        some_corpus.extend(raw)\n",
    "        print fileid\n",
    "\n",
    "    return some_corpus"
   ]
  },
  {
   "cell_type": "code",
   "execution_count": 16,
   "metadata": {
    "collapsed": false
   },
   "outputs": [
    {
     "name": "stdout",
     "output_type": "stream",
     "text": [
      "JayZ_American Gangster_American Dreamin.txt\n",
      "JayZ_American Gangster_American Gangster.txt\n",
      "JayZ_American Gangster_Blue Magic.txt\n",
      "JayZ_American Gangster_Fallin.txt\n",
      "JayZ_American Gangster_Hello Brooklyn 20.txt\n",
      "JayZ_American Gangster_I Know.txt\n",
      "JayZ_American Gangster_Ignorant Shit.txt\n",
      "JayZ_American Gangster_Intro.txt\n",
      "JayZ_American Gangster_No Hook.txt\n",
      "JayZ_American Gangster_Party Life.txt\n",
      "JayZ_American Gangster_Pray.txt\n",
      "JayZ_American Gangster_Say Hello.txt\n",
      "JayZ_American Gangster_Success.txt\n",
      "JayZ_American Gangster_Sweet.txt\n",
      "JayZ_Collision Course_Big Pimpin  Papercut.txt\n",
      "JayZ_Collision Course_Dirt Off Your Shoulder  Lying From You.txt\n",
      "JayZ_Collision Course_Izzo  In The End.txt\n",
      "JayZ_Collision Course_Jigga What  Faint.txt\n",
      "JayZ_Collision Course_Numb  Encore.txt\n",
      "JayZ_Collision Course_Points Of Authority  99 Problems  One Step Closer.txt\n",
      "JayZ_In My Lifetime Vol. 1_Face Off.txt\n",
      "JayZ_In My Lifetime Vol. 1_Friend Or Foe '98.txt\n",
      "JayZ_In My Lifetime Vol. 1_I Know What Girls Like.txt\n",
      "JayZ_In My Lifetime Vol. 1_Imaginary Player.txt\n",
      "JayZ_In My Lifetime Vol. 1_Lucky Me.txt\n",
      "JayZ_In My Lifetime Vol. 1_Real Niggaz.txt\n",
      "JayZ_In My Lifetime Vol. 1_Sunshine.txt\n",
      "JayZ_In My Lifetime Vol. 1_The Streets Is Watching.txt\n",
      "JayZ_In My Lifetime Vol. 1_Where I'm From.txt\n",
      "JayZ_In My Lifetime Vol. 1_Who You Wit II.txt\n",
      "JayZ_In My Lifetime Vol. 1_You Must Love Me.txt\n",
      "JayZ_Kingdom Come_30 Something.txt\n",
      "JayZ_Kingdom Come_44 Fours.txt\n",
      "JayZ_Kingdom Come_Anything.txt\n",
      "JayZ_Kingdom Come_Beach Chair.txt\n",
      "JayZ_Kingdom Come_Dig A Hole.txt\n",
      "JayZ_Kingdom Come_Do U Wanna Ride.txt\n",
      "JayZ_Kingdom Come_Hollywood.txt\n",
      "JayZ_Kingdom Come_I Made It.txt\n",
      "JayZ_Kingdom Come_Kingdom Come.txt\n",
      "JayZ_Kingdom Come_Lost One.txt\n",
      "JayZ_Kingdom Come_Minority Report.txt\n",
      "JayZ_Kingdom Come_Oh My God.txt\n",
      "JayZ_Kingdom Come_Show Me What You Got.txt\n",
      "JayZ_Kingdom Come_The Prelude.txt\n",
      "JayZ_Kingdom Come_Trouble.txt\n",
      "JayZ_Reasonable Doubt_22 Two's.txt\n",
      "JayZ_Reasonable Doubt_Ain't No Nigga.txt\n",
      "JayZ_Reasonable Doubt_Bring It On.txt\n",
      "JayZ_Reasonable Doubt_Brooklyn's Finest.txt\n",
      "JayZ_Reasonable Doubt_Can I Live II.txt\n",
      "JayZ_Reasonable Doubt_Can I Live.txt\n",
      "JayZ_Reasonable Doubt_Can't Knock The Hustle.txt\n",
      "JayZ_Reasonable Doubt_Cashmere Thoughts.txt\n",
      "JayZ_Reasonable Doubt_Coming Of Age.txt\n",
      "JayZ_Reasonable Doubt_D'Evils.txt\n",
      "JayZ_Reasonable Doubt_Dead Presidents II.txt\n",
      "JayZ_Reasonable Doubt_Feelin It.txt\n",
      "JayZ_Reasonable Doubt_Friend Or Foe.txt\n",
      "JayZ_Reasonable Doubt_Politics As Usual.txt\n",
      "JayZ_Reasonable Doubt_Regrets.txt\n",
      "JayZ_The Best Of Both Worlds_Break Up To Make Up.txt\n",
      "JayZ_The Best Of Both Worlds_Get This Money.txt\n",
      "JayZ_The Best Of Both Worlds_Green Light.txt\n",
      "JayZ_The Best Of Both Worlds_Honey.txt\n",
      "JayZ_The Best Of Both Worlds_It Aint Personal.txt\n",
      "JayZ_The Best Of Both Worlds_Naked.txt\n",
      "JayZ_The Best Of Both Worlds_Pussy.txt\n",
      "JayZ_The Best Of Both Worlds_Shake Ya Body.txt\n",
      "JayZ_The Best Of Both Worlds_Shorty.txt\n",
      "JayZ_The Best Of Both Worlds_Somebodys Girl.txt\n",
      "JayZ_The Best Of Both Worlds_Take You Home With Me aka Body.txt\n",
      "JayZ_The Best Of Both Worlds_The Best Of Both Worlds.txt\n",
      "JayZ_The Best Of Both Worlds_The Streets.txt\n",
      "JayZ_The Black Album_99 Problems.txt\n",
      "JayZ_The Black Album_Allure.txt\n",
      "JayZ_The Black Album_Change Clothes.txt\n",
      "JayZ_The Black Album_December 4th.txt\n",
      "JayZ_The Black Album_Dirt Off Your Shoulder.txt\n",
      "JayZ_The Black Album_Encore.txt\n",
      "JayZ_The Black Album_Justify My Thug.txt\n",
      "JayZ_The Black Album_Lucifer.txt\n",
      "JayZ_The Black Album_Moment Of Clarity.txt\n",
      "JayZ_The Black Album_My 1st Song.txt\n",
      "JayZ_The Black Album_Threat.txt\n",
      "JayZ_The Blueprint 2: The Gift & The Curse_03 Bonnie  Clyde.txt\n",
      "JayZ_The Blueprint 2: The Gift & The Curse_2 Many Hoes.txt\n",
      "JayZ_The Blueprint 2: The Gift & The Curse_A Ballad For The Fallen Soldier.txt\n",
      "JayZ_The Blueprint 2: The Gift & The Curse_A Dream.txt\n",
      "JayZ_The Blueprint 2: The Gift & The Curse_All Around The World.txt\n",
      "JayZ_The Blueprint 2: The Gift & The Curse_As One.txt\n",
      "JayZ_The Blueprint 2: The Gift & The Curse_Bitches  Sisters.txt\n",
      "JayZ_The Blueprint 2: The Gift & The Curse_Blueprint 2.txt\n",
      "JayZ_The Blueprint 2: The Gift & The Curse_Diamond Is Forever.txt\n",
      "JayZ_The Blueprint 2: The Gift & The Curse_Excuse Me Miss.txt\n",
      "JayZ_The Blueprint 2: The Gift & The Curse_Fuck All Nite.txt\n",
      "JayZ_The Blueprint 2: The Gift & The Curse_Guns  Roses.txt\n",
      "JayZ_The Blueprint 2: The Gift & The Curse_Hovi Baby.txt\n",
      "JayZ_The Blueprint 2: The Gift & The Curse_I Did It My Way.txt\n",
      "JayZ_The Blueprint 2: The Gift & The Curse_Meet The Parents.txt\n",
      "JayZ_The Blueprint 2: The Gift & The Curse_Nigga Please.txt\n",
      "JayZ_The Blueprint 2: The Gift & The Curse_Poppin Tags.txt\n",
      "JayZ_The Blueprint 2: The Gift & The Curse_Show You How.txt\n",
      "JayZ_The Blueprint 2: The Gift & The Curse_Some How Some Way.txt\n",
      "JayZ_The Blueprint 2: The Gift & The Curse_Some People Hate.txt\n",
      "JayZ_The Blueprint 2: The Gift & The Curse_The Bounce.txt\n",
      "JayZ_The Blueprint 2: The Gift & The Curse_The Watcher 2.txt\n",
      "JayZ_The Blueprint 2: The Gift & The Curse_What They Gonna Do Part II.txt\n",
      "JayZ_The Blueprint 2: The Gift & The Curse_What They Gonna Do.txt\n",
      "JayZ_The Blueprint 3_A Star Is Born.txt\n",
      "JayZ_The Blueprint 3_Already Home.txt\n",
      "JayZ_The Blueprint 3_Empire State Of Mind.txt\n",
      "JayZ_The Blueprint 3_Hate.txt\n",
      "JayZ_The Blueprint 3_Off That.txt\n",
      "JayZ_The Blueprint 3_On To The Next One.txt\n",
      "JayZ_The Blueprint 3_Real As It Gets.txt\n",
      "JayZ_The Blueprint 3_Reminder.txt\n",
      "JayZ_The Blueprint 3_Run This Town.txt\n",
      "JayZ_The Blueprint 3_So Ambitious.txt\n",
      "JayZ_The Blueprint 3_Thank You.txt\n",
      "JayZ_The Blueprint 3_Venus Vs Mars.txt\n",
      "JayZ_The Blueprint 3_What We Talkin About.txt\n",
      "JayZ_The Blueprint 3_Young Forever.txt\n",
      "JayZ_The Blueprint_All I Need.txt\n",
      "JayZ_The Blueprint_Girls Girls Girls.txt\n",
      "JayZ_The Blueprint_Hola Hovito.txt\n",
      "JayZ_The Blueprint_Jigga That Nigga.txt\n",
      "JayZ_The Blueprint_Never Change.txt\n",
      "JayZ_The Blueprint_Renegade.txt\n",
      "JayZ_The Blueprint_Song Cry.txt\n",
      "JayZ_The Blueprint_Takeover.txt\n",
      "JayZ_The Blueprint_The Best Of Both Worlds.txt\n",
      "JayZ_The Blueprint_The Rulers Back.txt\n",
      "JayZ_The Blueprint_U Dont Know.txt\n",
      "JayZ_The Dynasty Roc La Familia_1900Hustler.txt\n",
      "JayZ_The Dynasty Roc La Familia_Change The Game.txt\n",
      "JayZ_The Dynasty Roc La Familia_Get Your Mind Right Mami.txt\n",
      "JayZ_The Dynasty Roc La Familia_Guilty Until Proven Innocent.txt\n",
      "JayZ_The Dynasty Roc La Familia_Holla.txt\n",
      "JayZ_The Dynasty Roc La Familia_Intro.txt\n",
      "JayZ_The Dynasty Roc La Familia_Parking Lot Pimpin.txt\n",
      "JayZ_The Dynasty Roc La Familia_Soon Youll Understand.txt\n",
      "JayZ_The Dynasty Roc La Familia_Squeeze 1st.txt\n",
      "JayZ_The Dynasty Roc La Familia_Stick 2 The Script.txt\n",
      "JayZ_The Dynasty Roc La Familia_Streets Is Talking.txt\n",
      "JayZ_The Dynasty Roc La Familia_The ROC.txt\n",
      "JayZ_The Dynasty Roc La Familia_This Cant Be Life.txt\n",
      "JayZ_The Dynasty Roc La Familia_Where Have You Been.txt\n",
      "JayZ_The Dynasty Roc La Familia_You Me Him And Her.txt\n",
      "JayZ_Unfinished Business_Big Chips.txt\n",
      "JayZ_Unfinished Business_Dont Let Me Die.txt\n",
      "JayZ_Unfinished Business_Feelin You In Stereo.txt\n",
      "JayZ_Unfinished Business_Mo Money.txt\n",
      "JayZ_Unfinished Business_Pretty Girls.txt\n",
      "JayZ_Unfinished Business_Shes Coming Home With Me.txt\n",
      "JayZ_Unfinished Business_Stop.txt\n",
      "JayZ_Unfinished Business_The Return.txt\n",
      "JayZ_Unfinished Business_We Got Em Goin.txt\n",
      "JayZ_Vol. 2...  Hard Knock Life_A Week Ago.txt\n",
      "JayZ_Vol. 2...  Hard Knock Life_If I Should Die.txt\n",
      "JayZ_Vol. 2...  Hard Knock Life_Intro  Hand It Down.txt\n",
      "JayZ_Vol. 2...  Hard Knock Life_Intro - Hand It Down.txt\n",
      "JayZ_Vol. 2...  Hard Knock Life_Its Alright.txt\n",
      "JayZ_Vol. 2...  Hard Knock Life_Its Like That.txt\n",
      "JayZ_Vol. 2...  Hard Knock Life_Money Aint A Thang.txt\n",
      "JayZ_Vol. 2...  Hard Knock Life_Money Cash Hoes.txt\n",
      "JayZ_Vol. 2...  Hard Knock Life_Paper Chase.txt\n",
      "JayZ_Vol. 2...  Hard Knock Life_Reservoir Dogs.txt\n",
      "JayZ_Vol. 2...  Hard Knock Life_Ride Or Die.txt\n",
      "JayZ_Vol. 3... Life And Times Of S. Carter_Anything.txt\n",
      "JayZ_Vol. 3... Life And Times Of S. Carter_Come And Get Me.txt\n",
      "JayZ_Vol. 3... Life And Times Of S. Carter_Do It Again.txt\n",
      "JayZ_Vol. 3... Life And Times Of S. Carter_Dope Man.txt\n",
      "JayZ_Vol. 3... Life And Times Of S. Carter_Girls Best Friend.txt\n",
      "JayZ_Vol. 3... Life And Times Of S. Carter_Jigga My Nigga.txt\n",
      "JayZ_Vol. 3... Life And Times Of S. Carter_NYMP.txt\n",
      "JayZ_Vol. 3... Life And Times Of S. Carter_Pop 4 Roc.txt\n",
      "JayZ_Vol. 3... Life And Times Of S. Carter_S Carter.txt\n",
      "JayZ_Vol. 3... Life And Times Of S. Carter_Snoopy Track.txt\n",
      "JayZ_Vol. 3... Life And Times Of S. Carter_So Ghetto.txt\n",
      "JayZ_Vol. 3... Life And Times Of S. Carter_Theres Been A Murder.txt\n",
      "JayZ_Vol. 3... Life And Times Of S. Carter_Things That U Do.txt\n",
      "JayZ_Vol. 3... Life And Times Of S. Carter_Watch Me.txt\n",
      "JayZ_Watch The Throne_20 Bag Shorty.txt\n",
      "JayZ_Watch The Throne_8 Miles And Runnin.txt\n"
     ]
    }
   ],
   "source": [
    "the_corpus = create_corpus(wordlist, []) "
   ]
  },
  {
   "cell_type": "code",
   "execution_count": 17,
   "metadata": {
    "collapsed": false
   },
   "outputs": [
    {
     "data": {
      "text/plain": [
       "119302"
      ]
     },
     "execution_count": 17,
     "metadata": {},
     "output_type": "execute_result"
    }
   ],
   "source": [
    "len(the_corpus)"
   ]
  },
  {
   "cell_type": "code",
   "execution_count": 18,
   "metadata": {
    "collapsed": false
   },
   "outputs": [
    {
     "data": {
      "text/plain": [
       "[u'Dreamed',\n",
       " u'of',\n",
       " u'you',\n",
       " u'this',\n",
       " u'morning',\n",
       " u'Then',\n",
       " u'came',\n",
       " u'the',\n",
       " u'dawn',\n",
       " u'and']"
      ]
     },
     "execution_count": 18,
     "metadata": {},
     "output_type": "execute_result"
    }
   ],
   "source": [
    "the_corpus[:10]"
   ]
  },
  {
   "cell_type": "code",
   "execution_count": 19,
   "metadata": {
    "collapsed": false
   },
   "outputs": [
    {
     "data": {
      "text/plain": [
       "['JayZ_American Gangster_American Dreamin.txt',\n",
       " 'JayZ_American Gangster_American Gangster.txt',\n",
       " 'JayZ_American Gangster_Blue Magic.txt',\n",
       " 'JayZ_American Gangster_Fallin.txt',\n",
       " 'JayZ_American Gangster_Hello Brooklyn 20.txt',\n",
       " 'JayZ_American Gangster_I Know.txt',\n",
       " 'JayZ_American Gangster_Ignorant Shit.txt',\n",
       " 'JayZ_American Gangster_Intro.txt',\n",
       " 'JayZ_American Gangster_No Hook.txt',\n",
       " 'JayZ_American Gangster_Party Life.txt',\n",
       " 'JayZ_American Gangster_Pray.txt',\n",
       " 'JayZ_American Gangster_Say Hello.txt',\n",
       " 'JayZ_American Gangster_Success.txt',\n",
       " 'JayZ_American Gangster_Sweet.txt']"
      ]
     },
     "execution_count": 19,
     "metadata": {},
     "output_type": "execute_result"
    }
   ],
   "source": [
    "Albums = wordlist.fileids()\n",
    "Albums[:14]\n",
    "[fileid for fileid in Albums[:14]]"
   ]
  },
  {
   "cell_type": "code",
   "execution_count": 20,
   "metadata": {
    "collapsed": false
   },
   "outputs": [
    {
     "data": {
      "text/plain": [
       "[u'die',\n",
       " u'And',\n",
       " u'even',\n",
       " u'if',\n",
       " u'Jehovah',\n",
       " u'witness',\n",
       " u'bet',\n",
       " u'he',\n",
       " u'll',\n",
       " u'never']"
      ]
     },
     "execution_count": 20,
     "metadata": {},
     "output_type": "execute_result"
    }
   ],
   "source": [
    "the_corpus[34990:35000]"
   ]
  },
  {
   "cell_type": "markdown",
   "metadata": {},
   "source": [
    "We can now go ahead and figure out the number of unique words used in Jay Z's first 35,000 lyrics. An astute observer will notice that we have not done any data cleaning. For example, take a look inside a slice of the corpus, the last 10 words `the_corpus[34990:35000]`, `['die', 'And', 'even', 'if', 'Jehovah', 'witness', 'bet', 'he', 'll', 'never']`, you will see it has treated the contraction \"I'm\" as two separate words. The `create_corpus` function that we used, works by separating each contiguous chunk of alphabets separated by punctuations or space as a word. As a result contractions like \"I'm\" gets treated as two words. We can use the function `lexical_diversity` to determine the number of unique words in our Jay Z corpus."
   ]
  },
  {
   "cell_type": "code",
   "execution_count": 21,
   "metadata": {
    "collapsed": false
   },
   "outputs": [],
   "source": [
    "def lexical_diversity(my_text_data):\n",
    "    word_count = len(my_text_data)\n",
    "    vocab_size = len(set(my_text_data))\n",
    "    diversity_score = word_count / vocab_size\n",
    "    return diversity_score"
   ]
  },
  {
   "cell_type": "markdown",
   "metadata": {},
   "source": [
    "If we call our function on the Jay Z sliced corpus, it should give us a score."
   ]
  },
  {
   "cell_type": "code",
   "execution_count": 25,
   "metadata": {
    "collapsed": false
   },
   "outputs": [
    {
     "data": {
      "text/plain": [
       "6"
      ]
     },
     "execution_count": 25,
     "metadata": {},
     "output_type": "execute_result"
    }
   ],
   "source": [
    "lexical_diversity(the_corpus[:35000])\n",
    "\n"
   ]
  },
  {
   "cell_type": "code",
   "execution_count": 26,
   "metadata": {
    "collapsed": false
   },
   "outputs": [
    {
     "data": {
      "text/plain": [
       "['American Gangster_American Dreamin.txt',\n",
       " 'American Gangster_American Gangster.txt',\n",
       " 'American Gangster_Blue Magic.txt',\n",
       " 'American Gangster_Fallin.txt',\n",
       " 'American Gangster_Hello Brooklyn 20.txt',\n",
       " 'American Gangster_I Know.txt',\n",
       " 'American Gangster_Ignorant Shit.txt',\n",
       " 'American Gangster_Intro.txt',\n",
       " 'American Gangster_No Hook.txt',\n",
       " 'American Gangster_Party Life.txt',\n",
       " 'American Gangster_Pray.txt',\n",
       " 'American Gangster_Say Hello.txt',\n",
       " 'American Gangster_Success.txt',\n",
       " 'American Gangster_Sweet.txt']"
      ]
     },
     "execution_count": 26,
     "metadata": {},
     "output_type": "execute_result"
    }
   ],
   "source": [
    "[fileid[5:] for fileid in Albums[:14]]"
   ]
  },
  {
   "cell_type": "code",
   "execution_count": 27,
   "metadata": {
    "collapsed": false
   },
   "outputs": [],
   "source": [
    "basketball_bag_of_words = ['bounce','crossover','technical',\n",
    " 'shooting','double','jump','goal','backdoor','chest','ball',\n",
    " 'team','block','throw','offensive','point','airball','pick',\n",
    " 'assist','shot','layup','break','dribble','roll','cut','forward',\n",
    " 'move','zone','three-pointer','free','post','fast','blocking','backcourt',\n",
    " 'violation','foul','field','pass','turnover','alley-oop','guard']"
   ]
  },
  {
   "cell_type": "code",
   "execution_count": 28,
   "metadata": {
    "collapsed": false
   },
   "outputs": [],
   "source": [
    "cfd = nltk.ConditionalFreqDist(\n",
    "          (target, fileid[5:])\n",
    "           for fileid in Albums[:14]\n",
    "           for w in wordlist.words(fileid)\n",
    "           for target in basketball_bag_of_words\n",
    "           if w.lower().startswith(target))"
   ]
  },
  {
   "cell_type": "code",
   "execution_count": 30,
   "metadata": {
    "collapsed": false
   },
   "outputs": [
    {
     "data": {
      "image/png": "[encoded data removed]",
      "text/plain": [
       "<matplotlib.figure.Figure at 0x10e6fc710>"
      ]
     },
     "metadata": {},
     "output_type": "display_data"
    }
   ],
   "source": [
    "cfd.plot()"
   ]
  },
  {
   "cell_type": "markdown",
   "metadata": {},
   "source": [
    "From the plot we see that the basketball term \"roll\" seems to be used extensively in the song *Party Life*. Let's take a closer look at this phenomenon, and determine if \"roll\" was used in the \"basketball\" sense of the term. To do this, we need to see the context in which it was used. What we really need is a concordance. Let's build one.\n",
    "\n",
    "The first thing I want to do is to create a corpus that only contain words from the American Gangster album."
   ]
  },
  {
   "cell_type": "markdown",
   "metadata": {},
   "source": [
    "Building a concordance, gets us to the area of elementary information retrieval (IR)<a href=\"#fn1\" id=\"ref1\">1</a>, think, <i> basic search engine</i>. So why do we even need to “normalize” terms? We want to match <b>U.S.A.</b> and <b>USA</b>. Also when we enter <b>roll</b>, we would like to match <b>Roll</b>, and <b>rolling</b>. One way to do this is to stem the word. That is, reduce it down to its base/stem/root form. As such <b>automate(s)</b>, <b>automatic</b>, <b>automation</b> all reduced to <b>automat</b>. Most stemmers are pretty basic and just chop off standard affixes indicating things like tense (e.g., \"-ed\") and possessive forms (e.g., \"-'s\"). Here, we'll use the most popular english language stemmer, the Potter stemmer, which comes with NLTK. \n",
    "\n",
    "Once our tokens are stemmed, we can rest easy knowing that roll, Rolling, Rolls will all stem to roll.\n",
    "\n",
    "<sup id=\"fn1\">1. Some of this content has been adapted from Dan Jurafsky's <a href=\"https://web.stanford.edu/class/cs124/\">Stanford CS124 class</a><a href=\"#ref1\" title=\"Jump back to footnote 1 in the text.\"></a></sup>"
   ]
  },
  {
   "cell_type": "markdown",
   "metadata": {},
   "source": [
    "    \n",
    "Now we can go ahead and create a concordance to test if \"roll\" is used in the basketball (pick and roll) sense or not."
   ]
  },
  {
   "cell_type": "code",
   "execution_count": 41,
   "metadata": {
    "collapsed": false
   },
   "outputs": [],
   "source": [
    "class IndexedText(object):                                          \n",
    "    # object oriented programming techniques that are outside the scope of this book\n",
    "\n",
    "    def __init__(self, stemmer, text, on_the_fly=False):\n",
    "        self._text = text\n",
    "        self._stemmer = stemmer\n",
    "        self._index = nltk.Index((self._stem(word), i)              \n",
    "        # pre-computes index for EVERY WORD. wouldn't it be better to do this on the fly? \n",
    "        # especially since this class is used INTERACTIVELY??\n",
    "        for (i, word) in enumerate(text))  # enumerate() from 4.2 (ahhhh)\n",
    "        self.__on_the_fly = on_the_fly\n",
    "    \n",
    "    def __make_index(self, word):\n",
    "        if self.__on_the_fly:\n",
    "            _index = { self._stem(word): [i for (i, w) in enumerate(self._text) if w == word] }  \n",
    "        else:\n",
    "            pass\n",
    "\n",
    "    def concordance(self, word, width=40):\n",
    "        key = self._stem(word)\n",
    "        wc = width/4                # words of context\n",
    "        self.__make_index(word)\n",
    "        for i in self._index[key]:\n",
    "            lcontext = ' '.join(self._text[i-wc:i])\n",
    "            rcontext = ' '.join(self._text[i:i+wc])\n",
    "            ldisplay = '%*s'  % (width, lcontext[-width:])          \n",
    "            # string formatting from 3.9\n",
    "            rdisplay = '%-*s' % (width, rcontext[:width])           \n",
    "            # recall that the \"*\" allows width to be specified at runtime\n",
    "            print ldisplay, rdisplay\n",
    "\n",
    "    def _stem(self, word):\n",
    "        return self._stemmer.stem(word).lower()"
   ]
  },
  {
   "cell_type": "code",
   "execution_count": 45,
   "metadata": {
    "collapsed": false
   },
   "outputs": [
    {
     "name": "stdout",
     "output_type": "stream",
     "text": [
      "Y know powder blue Roc a Wear suit white Nike her Add mami to the cypher R O C   \n",
      "     we Y all don t rock your Roc A Wear Nike checks like we Y all coach class y \n",
      "la back CHORUS All I need Rocawear check Nike Airs check Mean bucket uh huh Armad\n",
      "n t strapped that means I took em off my Nike Airs Get off mine y all talk shit l\n",
      "t every rhyme be in check like a pair of Nikes Amil Beanie Siegal Would ya love m\n"
     ]
    }
   ],
   "source": [
    "\n",
    "J_lyrics = IndexedText(porter, the_corpus)\n",
    "J_lyrics.concordance('nike')"
   ]
  },
  {
   "cell_type": "markdown",
   "metadata": {},
   "source": [
    "Based on the context, you can decide if the word \"roll\" is used in a basketball sense. This is really where the \"art\" of the word \"Arts and Sciences\" comes to play in Data Science and NLP."
   ]
  }
 ],
 "metadata": {
  "kernelspec": {
   "display_name": "Python 2",
   "language": "python",
   "name": "python2"
  },
  "language_info": {
   "codemirror_mode": {
    "name": "ipython",
    "version": 2
   },
   "file_extension": ".py",
   "mimetype": "text/x-python",
   "name": "python",
   "nbconvert_exporter": "python",
   "pygments_lexer": "ipython2",
   "version": "2.7.12"
  }
 },
 "nbformat": 4,
 "nbformat_minor": 0
}
